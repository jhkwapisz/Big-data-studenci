{
 "cells": [
  {
   "cell_type": "markdown",
   "id": "df7f9cd5",
   "metadata": {},
   "source": [
    "# Analiza jakości wina z scikit learn"
   ]
  },
  {
   "cell_type": "code",
   "execution_count": null,
   "id": "5268efbd",
   "metadata": {},
   "outputs": [],
   "source": [
    "import pandas as pd"
   ]
  },
  {
   "cell_type": "code",
   "execution_count": null,
   "id": "109a60d0",
   "metadata": {},
   "outputs": [],
   "source": [
    "# Ładowanie danych.\n",
    "df = pd.read_csv('http://archive.ics.uci.edu/ml/machine-learning-databases/wine-quality/winequality-red.csv',sep=';')"
   ]
  },
  {
   "cell_type": "code",
   "execution_count": null,
   "id": "a3f59ea9",
   "metadata": {},
   "outputs": [],
   "source": [
    "print(df.head(10))"
   ]
  },
  {
   "cell_type": "code",
   "execution_count": null,
   "id": "1cfc854e",
   "metadata": {},
   "outputs": [],
   "source": [
    "print(df.shape)\n",
    "\n",
    "df.info()"
   ]
  },
  {
   "cell_type": "code",
   "execution_count": null,
   "id": "b98e1692",
   "metadata": {},
   "outputs": [],
   "source": [
    "print(df.describe())"
   ]
  },
  {
   "cell_type": "markdown",
   "id": "579a5628",
   "metadata": {},
   "source": [
    "## Zadanie 1 Obejrzenie danych\n",
    "\n",
    "Przygotujcie 10 histogramów danych z każdą cechą danych. Zastanówcie się jaką wartość `quality` należy wybrać aby najlepiej rozróżniać dobre wino od złego.\n",
    "\n",
    "Jako dane `X` przyjmijcie wszystkie dane oprócz `quality`, `y` to ma być quality."
   ]
  },
  {
   "cell_type": "code",
   "execution_count": null,
   "id": "1cef5fd7",
   "metadata": {},
   "outputs": [],
   "source": []
  },
  {
   "cell_type": "markdown",
   "id": "052b0aaf",
   "metadata": {},
   "source": [
    "## Zadanie 2 Przygotowanie danych\n",
    "\n",
    "Przygotuj dane do treningu uczenia maszynowego, wykonując następujące kroki:\n",
    "\n",
    "1. Znormalizuj dane wejściowe przy użyciu standardowej normalizacji. Odejmując średnią i dzieląc przez wariancję.\n",
    "2. Podziel dane na zbiór treningowy i zbiór walidacyjny w stosunku wybranym stosunku\n",
    "3. Przygotuj dane y do klasyfikacji binarnej przez zakodowanie ich w postaci binarnej (0 lub 1), w zależności od wybranej klasy.\n",
    "4. Zdyskretuzuj dane dla klasyfikatora opierającego się o naiwnego Bayesa.\n",
    "Możesz skorzystać z biblioteki do przetwarzania danych takiej jak pandas, scikit-learn lub numpy, aby wykonać powyższe kroki. \n",
    "\n",
    "**Do każdego kroku przygotuj funkcję**."
   ]
  },
  {
   "cell_type": "markdown",
   "id": "fbb7e87b",
   "metadata": {},
   "source": [
    "# Zadanie 3 Trening\n",
    "\n",
    "Przy użyciu modeli z biblioteki scikit-learn wykonaj uczenie modeli:\n",
    "1. K-najbliższych sąsiadów\n",
    "2. Regresję Logistyczną\n",
    "3. Naiwny Klasyfikator Bayesowski\n",
    "    A) W wersji zdyskretyzowanej\n",
    "    B) W wersji Gausowskiej\n",
    "\n",
    "Wyniki oceń przy użyciu metryki `acuracy` oraz `f1_score` zarówno na zbiore treningowym jak i walidacyjnym (val_size=0.1). W przypadku 1. oraz 2. zbadaj zależność od hiperparametrów przygotowując odpowiednie wykresy.\n",
    "\n",
    "W przypadku KNN zabdaj zależność od K oraz od metryki, w przypadku regresji logistycznej od `learning_rate` oraz ilości epok treningu. \n",
    "\n",
    "Następnie odpowiedz na następujące pytania:\n",
    "1. Który model jest najlepszy do tego zadania.\n",
    "2. Jak mógłbyś poprawić przewidywania modeli dla klasyfikacji wina.\n"
   ]
  },
  {
   "cell_type": "code",
   "execution_count": null,
   "id": "823562ca",
   "metadata": {},
   "outputs": [],
   "source": []
  },
  {
   "cell_type": "code",
   "execution_count": null,
   "id": "35620fb6",
   "metadata": {},
   "outputs": [],
   "source": [
    "models = []\n",
    "models.append(('Najblizsi sasiedzi', KNeighborsClassifier()))\n",
    "models.append(('Regresja Logistyczna', LogisticRegression()))\n",
    "\n",
    "results = []\n",
    "names = []\n",
    "scoring = 'accuracy'"
   ]
  },
  {
   "cell_type": "code",
   "execution_count": null,
   "id": "202fea43",
   "metadata": {},
   "outputs": [],
   "source": [
    "#Przeskalowanie danych \n",
    "sc = StandardScaler()\n",
    "for name, model in models:\n",
    "    pass"
   ]
  },
  {
   "cell_type": "code",
   "execution_count": null,
   "id": "4118a8ce",
   "metadata": {},
   "outputs": [],
   "source": []
  }
 ],
 "metadata": {
  "kernelspec": {
   "display_name": "Python 3 (ipykernel)",
   "language": "python",
   "name": "python3"
  },
  "language_info": {
   "codemirror_mode": {
    "name": "ipython",
    "version": 3
   },
   "file_extension": ".py",
   "mimetype": "text/x-python",
   "name": "python",
   "nbconvert_exporter": "python",
   "pygments_lexer": "ipython3",
   "version": "3.9.13"
  }
 },
 "nbformat": 4,
 "nbformat_minor": 5
}
